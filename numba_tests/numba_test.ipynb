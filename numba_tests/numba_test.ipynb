{
 "cells": [
  {
   "cell_type": "code",
   "execution_count": 1,
   "metadata": {},
   "outputs": [
    {
     "name": "stdout",
     "output_type": "stream",
     "text": [
      "Populating the interactive namespace from numpy and matplotlib\n"
     ]
    }
   ],
   "source": [
    "%pylab inline\n",
    "from numba import njit, vectorize, prange"
   ]
  },
  {
   "cell_type": "code",
   "execution_count": 2,
   "metadata": {},
   "outputs": [],
   "source": [
    "@njit(nogil=True)\n",
    "def friction(v,vt):\n",
    "    if v > vt:\n",
    "        return - v * 3\n",
    "    else:\n",
    "        return - vt * 3 * np.sign(v)\n",
    "\n",
    "@njit(nogil=True)\n",
    "def simulation_spring(x0,T=10,dt=0.0001,vt=1.0):\n",
    "    times = np.arange(0,T,dt)\n",
    "    positions = np.zeros_like(times)\n",
    "    \n",
    "    v = 0\n",
    "    a = 0\n",
    "    x = x0\n",
    "    positions[0] = x0/x0\n",
    "    \n",
    "    for i in range(1,len(times)):\n",
    "        \n",
    "        t = times[i]\n",
    "        a = friction(v,vt) - 100*x\n",
    "        v = v + a*dt\n",
    "        x = x + v*dt\n",
    "        positions[i] = x/x0\n",
    "        \n",
    "    return times,positions\n",
    "        "
   ]
  },
  {
   "cell_type": "code",
   "execution_count": 18,
   "metadata": {},
   "outputs": [
    {
     "name": "stdout",
     "output_type": "stream",
     "text": [
      "CPU times: user 1.06 ms, sys: 521 µs, total: 1.58 ms\n",
      "Wall time: 1.12 ms\n"
     ]
    }
   ],
   "source": [
    "%time _=simulation_spring(1)"
   ]
  },
  {
   "cell_type": "code",
   "execution_count": 5,
   "metadata": {},
   "outputs": [
    {
     "data": {
      "text/plain": [
       "[<matplotlib.lines.Line2D at 0x7fdb277aee10>]"
      ]
     },
     "execution_count": 5,
     "metadata": {},
     "output_type": "execute_result"
    },
    {
     "data": {
      "image/png": "[encoded data removed]",
      "text/plain": [
       "<Figure size 432x288 with 1 Axes>"
      ]
     },
     "metadata": {
      "needs_background": "light"
     },
     "output_type": "display_data"
    }
   ],
   "source": [
    "plot(*simulation_spring(0.1))\n",
    "plot(*simulation_spring(1))\n",
    "plot(*simulation_spring(10))\n",
    "plot(*simulation_spring(1000))"
   ]
  },
  {
   "cell_type": "code",
   "execution_count": 19,
   "metadata": {},
   "outputs": [
    {
     "name": "stdout",
     "output_type": "stream",
     "text": [
      "CPU times: user 8.76 s, sys: 147 ms, total: 8.91 s\n",
      "Wall time: 3.08 s\n"
     ]
    }
   ],
   "source": [
    "%%time\n",
    "\n",
    "from concurrent.futures import ThreadPoolExecutor\n",
    "\n",
    "with ThreadPoolExecutor(4) as ex:\n",
    "    ex.map(simulation_spring,np.arange(0.1,1000,0.1))"
   ]
  },
  {
   "cell_type": "code",
   "execution_count": 20,
   "metadata": {},
   "outputs": [],
   "source": [
    "@njit(parallel=True)\n",
    "def run_sim(end=1000):\n",
    "    for i in prange(int(end/0.1)):\n",
    "        if i==0:\n",
    "            continue\n",
    "        simulation_spring(i*0.1)\n",
    "run_sim(10)"
   ]
  },
  {
   "cell_type": "code",
   "execution_count": 22,
   "metadata": {},
   "outputs": [
    {
     "name": "stdout",
     "output_type": "stream",
     "text": [
      "CPU times: user 8.05 s, sys: 71.3 ms, total: 8.12 s\n",
      "Wall time: 2.74 s\n"
     ]
    }
   ],
   "source": [
    "%time run_sim(1000)"
   ]
  },
  {
   "cell_type": "code",
   "execution_count": null,
   "metadata": {},
   "outputs": [],
   "source": []
  },
  {
   "cell_type": "code",
   "execution_count": null,
   "metadata": {},
   "outputs": [],
   "source": []
  }
 ],
 "metadata": {
  "kernelspec": {
   "display_name": "Python 3",
   "language": "python",
   "name": "python3"
  },
  "language_info": {
   "codemirror_mode": {
    "name": "ipython",
    "version": 3
   },
   "file_extension": ".py",
   "mimetype": "text/x-python",
   "name": "python",
   "nbconvert_exporter": "python",
   "pygments_lexer": "ipython3",
   "version": "3.7.1"
  }
 },
 "nbformat": 4,
 "nbformat_minor": 4
}
